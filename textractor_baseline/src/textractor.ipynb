{
 "cells": [
  {
   "cell_type": "code",
   "execution_count": null,
   "metadata": {},
   "outputs": [
    {
     "name": "stdout",
     "output_type": "stream",
     "text": [
      "Processing: ../tst/saved_pdfs/_-1.pdf\n"
     ]
    },
    {
     "ename": "InputError",
     "evalue": "For files not in S3, an S3 upload path must be provided",
     "output_type": "error",
     "traceback": [
      "\u001b[0;31m---------------------------------------------------------------------------\u001b[0m",
      "\u001b[0;31mInputError\u001b[0m                                Traceback (most recent call last)",
      "Cell \u001b[0;32mIn[9], line 70\u001b[0m\n\u001b[1;32m     67\u001b[0m output_pdf_dir \u001b[38;5;241m=\u001b[39m \u001b[38;5;124m\"\u001b[39m\u001b[38;5;124m../tst/annotated_pdfs\u001b[39m\u001b[38;5;124m\"\u001b[39m\n\u001b[1;32m     68\u001b[0m page_limit \u001b[38;5;241m=\u001b[39m \u001b[38;5;241m5\u001b[39m\n\u001b[0;32m---> 70\u001b[0m \u001b[43mprocess_pdf_directory\u001b[49m\u001b[43m(\u001b[49m\u001b[43minput_pdf_dir\u001b[49m\u001b[43m,\u001b[49m\u001b[43m \u001b[49m\u001b[43moutput_pdf_dir\u001b[49m\u001b[43m,\u001b[49m\u001b[43m \u001b[49m\u001b[43mpage_limit\u001b[49m\u001b[43m)\u001b[49m\n",
      "Cell \u001b[0;32mIn[9], line 63\u001b[0m, in \u001b[0;36mprocess_pdf_directory\u001b[0;34m(input_dir, output_dir, page_limit)\u001b[0m\n\u001b[1;32m     61\u001b[0m full_pdf_path \u001b[38;5;241m=\u001b[39m os\u001b[38;5;241m.\u001b[39mpath\u001b[38;5;241m.\u001b[39mjoin(input_dir, pdf_file)\n\u001b[1;32m     62\u001b[0m \u001b[38;5;28mprint\u001b[39m(\u001b[38;5;124mf\u001b[39m\u001b[38;5;124m\"\u001b[39m\u001b[38;5;124mProcessing: \u001b[39m\u001b[38;5;132;01m{\u001b[39;00mfull_pdf_path\u001b[38;5;132;01m}\u001b[39;00m\u001b[38;5;124m\"\u001b[39m)\n\u001b[0;32m---> 63\u001b[0m \u001b[43mprocess_multi_page_pdf\u001b[49m\u001b[43m(\u001b[49m\u001b[43mfull_pdf_path\u001b[49m\u001b[43m,\u001b[49m\u001b[43m \u001b[49m\u001b[43moutput_dir\u001b[49m\u001b[43m,\u001b[49m\u001b[43m \u001b[49m\u001b[43mpage_limit\u001b[49m\u001b[43m)\u001b[49m\n",
      "Cell \u001b[0;32mIn[9], line 10\u001b[0m, in \u001b[0;36mprocess_multi_page_pdf\u001b[0;34m(pdf_file, output_dir, page_limit)\u001b[0m\n\u001b[1;32m      7\u001b[0m extractor \u001b[38;5;241m=\u001b[39m Textractor(profile_name\u001b[38;5;241m=\u001b[39m\u001b[38;5;124m'\u001b[39m\u001b[38;5;124mdefault\u001b[39m\u001b[38;5;124m'\u001b[39m)\n\u001b[1;32m      9\u001b[0m \u001b[38;5;66;03m# Start document analysis\u001b[39;00m\n\u001b[0;32m---> 10\u001b[0m job_id \u001b[38;5;241m=\u001b[39m \u001b[43mextractor\u001b[49m\u001b[38;5;241;43m.\u001b[39;49m\u001b[43mstart_document_analysis\u001b[49m\u001b[43m(\u001b[49m\n\u001b[1;32m     11\u001b[0m \u001b[43m    \u001b[49m\u001b[43mfile_source\u001b[49m\u001b[38;5;241;43m=\u001b[39;49m\u001b[43mpdf_file\u001b[49m\u001b[43m,\u001b[49m\n\u001b[1;32m     12\u001b[0m \u001b[43m    \u001b[49m\u001b[43mfeatures\u001b[49m\u001b[38;5;241;43m=\u001b[39;49m\u001b[43m[\u001b[49m\u001b[43mTextractFeatures\u001b[49m\u001b[38;5;241;43m.\u001b[39;49m\u001b[43mTABLES\u001b[49m\u001b[43m,\u001b[49m\u001b[43m \u001b[49m\u001b[43mTextractFeatures\u001b[49m\u001b[38;5;241;43m.\u001b[39;49m\u001b[43mFORMS\u001b[49m\u001b[43m]\u001b[49m\n\u001b[1;32m     13\u001b[0m \u001b[43m\u001b[49m\u001b[43m)\u001b[49m\n\u001b[1;32m     15\u001b[0m \u001b[38;5;66;03m# Fetch results\u001b[39;00m\n\u001b[1;32m     16\u001b[0m document \u001b[38;5;241m=\u001b[39m extractor\u001b[38;5;241m.\u001b[39mget_document_analysis(job_id\u001b[38;5;241m=\u001b[39mjob_id)\n",
      "File \u001b[0;32m~/Desktop/research_police_records/police-records/police_records_env/lib/python3.11/site-packages/textractor/textractor.py:508\u001b[0m, in \u001b[0;36mTextractor.start_document_analysis\u001b[0;34m(self, file_source, features, s3_output_path, s3_upload_path, queries, client_request_token, job_tag, save_image)\u001b[0m\n\u001b[1;32m    505\u001b[0m \u001b[38;5;28;01mif\u001b[39;00m \u001b[38;5;129;01mnot\u001b[39;00m \u001b[38;5;28misinstance\u001b[39m(file_source, \u001b[38;5;28mstr\u001b[39m) \u001b[38;5;129;01mor\u001b[39;00m \u001b[38;5;129;01mnot\u001b[39;00m file_source\u001b[38;5;241m.\u001b[39mstartswith(\u001b[38;5;124m\"\u001b[39m\u001b[38;5;124ms3://\u001b[39m\u001b[38;5;124m\"\u001b[39m):\n\u001b[1;32m    506\u001b[0m     \u001b[38;5;66;03m# Check if the user has given us a bucket to upload to\u001b[39;00m\n\u001b[1;32m    507\u001b[0m     \u001b[38;5;28;01mif\u001b[39;00m \u001b[38;5;129;01mnot\u001b[39;00m s3_upload_path:\n\u001b[0;32m--> 508\u001b[0m         \u001b[38;5;28;01mraise\u001b[39;00m InputError(\n\u001b[1;32m    509\u001b[0m             \u001b[38;5;124mf\u001b[39m\u001b[38;5;124m\"\u001b[39m\u001b[38;5;124mFor files not in S3, an S3 upload path must be provided\u001b[39m\u001b[38;5;124m\"\u001b[39m\n\u001b[1;32m    510\u001b[0m         )\n\u001b[1;32m    512\u001b[0m     s3_file_path \u001b[38;5;241m=\u001b[39m os\u001b[38;5;241m.\u001b[39mpath\u001b[38;5;241m.\u001b[39mjoin(s3_upload_path, \u001b[38;5;28mstr\u001b[39m(uuid\u001b[38;5;241m.\u001b[39muuid4()))\n\u001b[1;32m    513\u001b[0m     upload_to_s3(\u001b[38;5;28mself\u001b[39m\u001b[38;5;241m.\u001b[39ms3_client, s3_file_path, file_source)\n",
      "\u001b[0;31mInputError\u001b[0m: For files not in S3, an S3 upload path must be provided"
     ]
    }
   ],
   "source": [
    "# Must provide an S3 path\n",
    "\n",
    "import os\n",
    "from textractor import Textractor\n",
    "from textractor.data.constants import TextractFeatures\n",
    "\n",
    "def process_multi_page_pdf(pdf_file, output_dir, page_limit=5):\n",
    "    # Initialize Textractor\n",
    "    extractor = Textractor(profile_name='default')\n",
    "\n",
    "    # Start document analysis\n",
    "    job_id = extractor.start_document_analysis(\n",
    "        file_source=pdf_file,\n",
    "        features=[TextractFeatures.TABLES, TextractFeatures.FORMS]\n",
    "    )\n",
    "\n",
    "    # Fetch results\n",
    "    document = extractor.get_document_analysis(job_id=job_id)\n",
    "\n",
    "    # Process and annotate each page\n",
    "    for page_number in range(1, page_limit + 1):\n",
    "        page_data = [element for element in document.elements if element.page_number == page_number]\n",
    "\n",
    "        # Annotate and save each page\n",
    "        if page_data:\n",
    "            annotate_page(pdf_file, page_number, page_data, output_dir)\n",
    "\n",
    "def annotate_page(pdf_file, page_number, page_data, output_dir):\n",
    "    import fitz  # PyMuPDF\n",
    "    from PIL import Image, ImageDraw\n",
    "\n",
    "    # Load the PDF with PyMuPDF\n",
    "    pdf_document = fitz.open(pdf_file)\n",
    "    page = pdf_document[page_number - 1]\n",
    "\n",
    "    # Render page to an image\n",
    "    pix = page.get_pixmap()\n",
    "    img = Image.frombytes(\"RGB\", [pix.width, pix.height], pix.samples)\n",
    "\n",
    "    # Draw bounding boxes using PIL\n",
    "    draw = ImageDraw.Draw(img)\n",
    "    for element in page_data:\n",
    "        bbox = element.bounding_box\n",
    "        draw.rectangle(\n",
    "            [\n",
    "                (bbox.left * img.width, bbox.top * img.height),\n",
    "                (bbox.right * img.width, bbox.bottom * img.height)\n",
    "            ],\n",
    "            outline=\"red\",\n",
    "            width=2\n",
    "        )\n",
    "\n",
    "    # Save annotated page\n",
    "    annotated_image_path = os.path.join(output_dir, f\"annotated_page_{page_number}.png\")\n",
    "    img.save(annotated_image_path)\n",
    "    print(f\"Annotated page saved at {annotated_image_path}\")\n",
    "\n",
    "def process_pdf_directory(input_dir, output_dir, page_limit=5):\n",
    "    os.makedirs(output_dir, exist_ok=True)\n",
    "\n",
    "    for pdf_file in os.listdir(input_dir):\n",
    "        if pdf_file.lower().endswith('.pdf'):\n",
    "            full_pdf_path = os.path.join(input_dir, pdf_file)\n",
    "            print(f\"Processing: {full_pdf_path}\")\n",
    "            process_multi_page_pdf(full_pdf_path, output_dir, page_limit)\n",
    "\n",
    "if __name__ == \"__main__\":\n",
    "    input_pdf_dir = \"../tst/saved_pdfs\"\n",
    "    output_pdf_dir = \"../tst/annotated_pdfs\"\n",
    "    page_limit = 5\n",
    "    \n",
    "    process_pdf_directory(input_pdf_dir, output_pdf_dir, page_limit)\n"
   ]
  },
  {
   "cell_type": "code",
   "execution_count": null,
   "metadata": {},
   "outputs": [],
   "source": []
  }
 ],
 "metadata": {
  "kernelspec": {
   "display_name": "police_records_env",
   "language": "python",
   "name": "python3"
  },
  "language_info": {
   "codemirror_mode": {
    "name": "ipython",
    "version": 3
   },
   "file_extension": ".py",
   "mimetype": "text/x-python",
   "name": "python",
   "nbconvert_exporter": "python",
   "pygments_lexer": "ipython3",
   "version": "3.11.4"
  }
 },
 "nbformat": 4,
 "nbformat_minor": 2
}
