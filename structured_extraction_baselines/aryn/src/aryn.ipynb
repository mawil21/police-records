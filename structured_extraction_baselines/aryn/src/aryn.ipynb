{
 "cells": [
  {
   "cell_type": "markdown",
   "metadata": {},
   "source": [
    "## Setup Env"
   ]
  },
  {
   "cell_type": "code",
   "execution_count": null,
   "metadata": {},
   "outputs": [],
   "source": [
    "from aryn_sdk.partition import partition_file, draw_with_boxes\n",
    "import os\n",
    "import json\n",
    "import fitz\n",
    "from PIL import Image\n",
    "\n",
    "aryn_api = # add your aryn api key here\n"
   ]
  },
  {
   "cell_type": "code",
   "execution_count": null,
   "metadata": {},
   "outputs": [
    {
     "name": "stdout",
     "output_type": "stream",
     "text": [
      "Processing ../tst/sample_pdfs/_-1.pdf...\n"
     ]
    },
    {
     "name": "stderr",
     "output_type": "stream",
     "text": [
      "ArynPartitioner: T+   0.00: Server version managed-service-22-model-1-4 Model version 1.4\n",
      "ArynPartitioner: T+   0.00: Received request with aryn_call_id=a9d7d55c-3ee7-4a35-9c1e-acbc37585753\n",
      "ArynPartitioner: T+   0.00: Waiting for scheduling\n",
      "ArynPartitioner: T+   0.02: Preprocessing document\n",
      "ArynPartitioner: T+   0.02: Done preprocessing document\n",
      "ArynPartitioner: T+   1.09: Completed work on page 1\n",
      "ArynPartitioner: T+   1.52: Completed work on page 2\n",
      "ArynPartitioner: T+   1.94: Completed work on page 3\n",
      "ArynPartitioner: T+   2.57: Completed work on page 4\n",
      "ArynPartitioner: T+   2.64: Completed work on page 5\n"
     ]
    },
    {
     "name": "stdout",
     "output_type": "stream",
     "text": [
      "Annotated PDF has been saved at ../tst/annotated_pdfs/annotated__-1.pdf\n",
      "Processing ../tst/sample_pdfs/1715882152079-fun-4.pdf...\n"
     ]
    },
    {
     "name": "stderr",
     "output_type": "stream",
     "text": [
      "ArynPartitioner: T+   0.00: Server version managed-service-22-model-1-4 Model version 1.4\n",
      "ArynPartitioner: T+   0.00: Received request with aryn_call_id=405d10ed-9ff2-437e-814d-eb6f13f4d48c\n",
      "ArynPartitioner: T+   0.00: Waiting for scheduling\n",
      "ArynPartitioner: T+   0.01: Preprocessing document\n",
      "ArynPartitioner: T+   0.01: Done preprocessing document\n",
      "ArynPartitioner: T+   1.19: Completed work on page 1\n",
      "ArynPartitioner: T+   1.41: Completed work on page 2\n",
      "ArynPartitioner: T+   2.36: Completed work on page 3\n",
      "ArynPartitioner: T+   3.71: Completed work on page 4\n",
      "ArynPartitioner: T+   3.78: Completed work on page 5\n"
     ]
    },
    {
     "name": "stdout",
     "output_type": "stream",
     "text": [
      "Annotated PDF has been saved at ../tst/annotated_pdfs/annotated_1715882152079-fun-4.pdf\n",
      "Processing ../tst/sample_pdfs/1715887458018-uop-14.pdf...\n"
     ]
    },
    {
     "name": "stderr",
     "output_type": "stream",
     "text": [
      "ArynPartitioner: T+   0.00: Server version managed-service-22-model-1-4 Model version 1.4\n",
      "ArynPartitioner: T+   0.00: Received request with aryn_call_id=cb219615-598b-48b1-a6c6-2cd6c01c93b8\n",
      "ArynPartitioner: T+   0.00: Waiting for scheduling\n",
      "ArynPartitioner: T+   0.08: Preprocessing document\n",
      "ArynPartitioner: T+   0.08: Done preprocessing document\n",
      "ArynPartitioner: T+   1.86: Completed work on page 1\n",
      "ArynPartitioner: T+   2.38: Completed work on page 2\n",
      "ArynPartitioner: T+   2.97: Completed work on page 3\n",
      "ArynPartitioner: T+   3.22: Completed work on page 4\n",
      "ArynPartitioner: T+   3.58: Completed work on page 5\n"
     ]
    },
    {
     "name": "stdout",
     "output_type": "stream",
     "text": [
      "Annotated PDF has been saved at ../tst/annotated_pdfs/annotated_1715887458018-uop-14.pdf\n",
      "Processing ../tst/sample_pdfs/1715883408139-sbr-1.pdf...\n"
     ]
    },
    {
     "name": "stderr",
     "output_type": "stream",
     "text": [
      "ArynPartitioner: T+   0.00: Server version managed-service-22-model-1-4 Model version 1.4\n",
      "ArynPartitioner: T+   0.00: Received request with aryn_call_id=16bd76a6-116b-437d-a7a2-d4fe97bdfc59\n",
      "ArynPartitioner: T+   0.00: Waiting for scheduling\n",
      "ArynPartitioner: T+   0.00: Preprocessing document\n",
      "ArynPartitioner: T+   0.00: Done preprocessing document\n",
      "ArynPartitioner: T+   0.71: Completed work on page 4\n",
      "ArynPartitioner: T+   1.26: Completed work on page 3\n",
      "ArynPartitioner: T+   1.26: Completed work on page 1\n",
      "ArynPartitioner: T+   1.78: Completed work on page 2\n"
     ]
    },
    {
     "name": "stdout",
     "output_type": "stream",
     "text": [
      "Annotated PDF has been saved at ../tst/annotated_pdfs/annotated_1715883408139-sbr-1.pdf\n",
      "Processing ../tst/sample_pdfs/1715883096213-sio-1.pdf...\n"
     ]
    },
    {
     "name": "stderr",
     "output_type": "stream",
     "text": [
      "ArynPartitioner: T+   0.00: Server version managed-service-22-model-1-4 Model version 1.4\n",
      "ArynPartitioner: T+   0.00: Received request with aryn_call_id=286bc747-0269-4a7f-ab55-43c778779df8\n",
      "ArynPartitioner: T+   0.00: Waiting for scheduling\n",
      "ArynPartitioner: T+   0.00: Preprocessing document\n",
      "ArynPartitioner: T+   0.00: Done preprocessing document\n",
      "ArynPartitioner: T+   1.02: Completed work on page 1\n",
      "ArynPartitioner: T+   1.08: Completed work on page 5\n",
      "ArynPartitioner: T+   1.82: Completed work on page 4\n",
      "ArynPartitioner: T+   2.19: Completed work on page 3\n",
      "ArynPartitioner: T+   2.38: Completed work on page 2\n"
     ]
    },
    {
     "name": "stdout",
     "output_type": "stream",
     "text": [
      "Annotated PDF has been saved at ../tst/annotated_pdfs/annotated_1715883096213-sio-1.pdf\n",
      "Processing ../tst/sample_pdfs/1715885123422-kyl-1.pdf...\n"
     ]
    },
    {
     "name": "stderr",
     "output_type": "stream",
     "text": [
      "ArynPartitioner: T+   0.00: Server version managed-service-22-model-1-4 Model version 1.4\n",
      "ArynPartitioner: T+   0.00: Received request with aryn_call_id=3023f9ba-f829-49e0-a697-8061dfbe613c\n",
      "ArynPartitioner: T+   0.00: Waiting for scheduling\n",
      "ArynPartitioner: T+   0.00: Preprocessing document\n",
      "ArynPartitioner: T+   0.00: Done preprocessing document\n",
      "ArynPartitioner: T+   1.27: Completed work on page 3\n",
      "ArynPartitioner: T+   1.33: Completed work on page 5\n",
      "ArynPartitioner: T+   1.96: Completed work on page 2\n",
      "ArynPartitioner: T+   2.03: Completed work on page 4\n",
      "ArynPartitioner: T+   2.38: Completed work on page 1\n"
     ]
    },
    {
     "name": "stdout",
     "output_type": "stream",
     "text": [
      "Annotated PDF has been saved at ../tst/annotated_pdfs/annotated_1715885123422-kyl-1.pdf\n",
      "Processing ../tst/sample_pdfs/1715886035061-jjp-2.pdf...\n"
     ]
    },
    {
     "name": "stderr",
     "output_type": "stream",
     "text": [
      "ArynPartitioner: T+   0.00: Server version managed-service-22-model-1-4 Model version 1.4\n",
      "ArynPartitioner: T+   0.00: Received request with aryn_call_id=cfac6ab6-eab5-41e5-a6b6-7b7b27e275c2\n",
      "ArynPartitioner: T+   0.00: Waiting for scheduling\n",
      "ArynPartitioner: T+   0.01: Preprocessing document\n",
      "ArynPartitioner: T+   0.01: Done preprocessing document\n",
      "ArynPartitioner: T+   1.00: Completed work on page 1\n",
      "ArynPartitioner: T+   1.28: Completed work on page 2\n",
      "ArynPartitioner: T+   1.56: Completed work on page 3\n",
      "ArynPartitioner: T+   1.94: Completed work on page 4\n",
      "ArynPartitioner: T+   2.01: Completed work on page 5\n"
     ]
    },
    {
     "name": "stdout",
     "output_type": "stream",
     "text": [
      "Annotated PDF has been saved at ../tst/annotated_pdfs/annotated_1715886035061-jjp-2.pdf\n",
      "Processing ../tst/sample_pdfs/1715883871123-lje-3.pdf...\n"
     ]
    },
    {
     "name": "stderr",
     "output_type": "stream",
     "text": [
      "ArynPartitioner: T+   0.00: Server version managed-service-22-model-1-4 Model version 1.4\n",
      "ArynPartitioner: T+   0.00: Received request with aryn_call_id=cbecc1f6-cb07-4a16-b511-0824d559b796\n",
      "ArynPartitioner: T+   0.00: Waiting for scheduling\n",
      "ArynPartitioner: T+   0.01: Preprocessing document\n",
      "ArynPartitioner: T+   0.01: Done preprocessing document\n",
      "ArynPartitioner: T+   0.79: Completed work on page 1\n",
      "ArynPartitioner: T+   1.40: Completed work on page 5\n",
      "ArynPartitioner: T+   1.46: Completed work on page 2\n",
      "ArynPartitioner: T+   2.62: Completed work on page 3\n",
      "ArynPartitioner: T+   2.84: Completed work on page 4\n"
     ]
    },
    {
     "name": "stdout",
     "output_type": "stream",
     "text": [
      "Annotated PDF has been saved at ../tst/annotated_pdfs/annotated_1715883871123-lje-3.pdf\n",
      "Processing ../tst/sample_pdfs/1715882749531-bdd-35.pdf...\n"
     ]
    },
    {
     "name": "stderr",
     "output_type": "stream",
     "text": [
      "ArynPartitioner: T+   0.00: Server version managed-service-22-model-1-4 Model version 1.4\n",
      "ArynPartitioner: T+   0.00: Received request with aryn_call_id=9b5f83e7-e889-48a2-ba33-ca2a8eee3f7c\n",
      "ArynPartitioner: T+   0.00: Waiting for scheduling\n",
      "ArynPartitioner: T+   0.02: Preprocessing document\n",
      "ArynPartitioner: T+   0.02: Done preprocessing document\n",
      "ArynPartitioner: T+   1.87: Completed work on page 1\n",
      "ArynPartitioner: T+   2.54: Completed work on page 2\n",
      "ArynPartitioner: T+   2.80: Completed work on page 4\n",
      "ArynPartitioner: T+   3.37: Completed work on page 3\n",
      "ArynPartitioner: T+   3.43: Completed work on page 5\n"
     ]
    },
    {
     "name": "stdout",
     "output_type": "stream",
     "text": [
      "Annotated PDF has been saved at ../tst/annotated_pdfs/annotated_1715882749531-bdd-35.pdf\n",
      "Processing ../tst/sample_pdfs/1715883858842-fjt-1.pdf...\n"
     ]
    },
    {
     "name": "stderr",
     "output_type": "stream",
     "text": [
      "ArynPartitioner: T+   0.00: Server version managed-service-22-model-1-4 Model version 1.4\n",
      "ArynPartitioner: T+   0.00: Received request with aryn_call_id=0701634a-abe2-4438-a1db-b5b9e058879e\n",
      "ArynPartitioner: T+   0.00: Waiting for scheduling\n",
      "ArynPartitioner: T+   0.01: Preprocessing document\n",
      "ArynPartitioner: T+   0.01: Done preprocessing document\n",
      "ArynPartitioner: T+   1.24: Completed work on page 1\n",
      "ArynPartitioner: T+   1.47: Completed work on page 2\n",
      "ArynPartitioner: T+   1.85: Completed work on page 3\n",
      "ArynPartitioner: T+   2.28: Completed work on page 4\n",
      "ArynPartitioner: T+   2.93: Completed work on page 5\n"
     ]
    },
    {
     "name": "stdout",
     "output_type": "stream",
     "text": [
      "Annotated PDF has been saved at ../tst/annotated_pdfs/annotated_1715883858842-fjt-1.pdf\n"
     ]
    }
   ],
   "source": [
    "# Function to process and save a single PDF\n",
    "def process_pdf(pdf_file, output_dir, aryn_api_key, page_limit=5):\n",
    "    # Ensure output directories exist\n",
    "    extracted_pdf_dir = os.path.join(output_dir, \"saved_pdfs\")\n",
    "    annotated_pdf_dir = os.path.join(output_dir, \"annotated_pdfs\")\n",
    "    \n",
    "    os.makedirs(extracted_pdf_dir, exist_ok=True)\n",
    "    os.makedirs(annotated_pdf_dir, exist_ok=True)\n",
    "    \n",
    "    # Extract specific pages (e.g., pages 1 to page_limit) and save to a temporary PDF\n",
    "    output_pdf_file = os.path.join(extracted_pdf_dir, os.path.basename(pdf_file))\n",
    "    with fitz.open(pdf_file) as pdf:\n",
    "        pdf_extract = fitz.open()  # Create a new PDF\n",
    "        for page_num in range(0, min(page_limit, len(pdf))):  # Pages 1 to page_limit\n",
    "            pdf_extract.insert_pdf(pdf, from_page=page_num, to_page=page_num)\n",
    "        pdf_extract.save(output_pdf_file)  # Save the extracted pages\n",
    "\n",
    "    # Process the extracted PDF with partition_file\n",
    "    with open(output_pdf_file, \"rb\") as f:\n",
    "        data = partition_file(\n",
    "            f,\n",
    "            aryn_api_key=aryn_api_key,\n",
    "            use_ocr=True,\n",
    "            extract_table_structure=True,\n",
    "            extract_images=True\n",
    "        )\n",
    "\n",
    "    # Draw bounding boxes on the extracted pages\n",
    "    pages = draw_with_boxes(output_pdf_file, data, draw_table_cells=True)\n",
    "\n",
    "    # Save the images with bounding boxes as a PDF\n",
    "    output_images_pdf = os.path.join(annotated_pdf_dir, f\"annotated_{os.path.basename(pdf_file)}\")\n",
    "    if pages:\n",
    "        pages[0].save(\n",
    "            output_images_pdf,\n",
    "            save_all=True,\n",
    "            append_images=pages[1:],  # Add the rest of the images to the first one\n",
    "            resolution=100.0\n",
    "        )\n",
    "\n",
    "    print(f\"Annotated PDF has been saved at {output_images_pdf}\")\n",
    "\n",
    "# Function to process all PDFs in a given directory\n",
    "def process_pdf_directory(input_dir, output_dir, aryn_api_key, page_limit=5):\n",
    "    # Get all PDF files in the input directory\n",
    "    pdf_files = [f for f in os.listdir(input_dir) if f.endswith('.pdf')]\n",
    "    \n",
    "    # Process each PDF\n",
    "    for pdf_file in pdf_files:\n",
    "        full_pdf_path = os.path.join(input_dir, pdf_file)\n",
    "        print(f\"Processing {full_pdf_path}...\")\n",
    "        process_pdf(full_pdf_path, output_dir, aryn_api_key, page_limit)\n",
    "\n",
    "# Define the input and output directories\n",
    "input_pdf_dir = \"../tst/sample_pdfs\"  # Directory containing the PDFs to process\n",
    "output_pdf_dir = \"../tst\"  # Directory to store the extracted and annotated PDFs\n",
    "\n",
    "# Your Aryn API key\n",
    "aryn_api_key = aryn_api\n",
    "\n",
    "# Process all PDFs in the input directory\n",
    "process_pdf_directory(input_pdf_dir, output_pdf_dir, aryn_api_key, page_limit=5)\n"
   ]
  }
 ],
 "metadata": {
  "kernelspec": {
   "display_name": "police_records_env",
   "language": "python",
   "name": "python3"
  },
  "language_info": {
   "codemirror_mode": {
    "name": "ipython",
    "version": 3
   },
   "file_extension": ".py",
   "mimetype": "text/x-python",
   "name": "python",
   "nbconvert_exporter": "python",
   "pygments_lexer": "ipython3",
   "version": "3.11.4"
  }
 },
 "nbformat": 4,
 "nbformat_minor": 2
}
