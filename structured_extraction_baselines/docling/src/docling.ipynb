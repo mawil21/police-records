{
 "cells": [
  {
   "cell_type": "code",
   "execution_count": 63,
   "metadata": {},
   "outputs": [],
   "source": [
    "from docling.document_converter import DocumentConverter\n",
    "import os\n",
    "import json\n",
    "import fitz\n",
    "from PIL import Image\n"
   ]
  },
  {
   "cell_type": "code",
   "execution_count": null,
   "metadata": {},
   "outputs": [],
   "source": [
    "# Define colors for each recognized label\n",
    "label_colors = {\n",
    "    \"caption\": (1, 0, 0),             # Red\n",
    "    \"footnote\": (0, 0, 1),            # Blue\n",
    "    \"formula\": (0, 1, 0),             # Green\n",
    "    \"list_item\": (1, 1, 0),           # Yellow\n",
    "    \"page_footer\": (1, 0, 1),         # Magenta\n",
    "    \"page_header\": (0, 1, 1),         # Cyan\n",
    "    \"picture\": (0.5, 0.5, 0.5),       # Gray\n",
    "    \"section_header\": (1, 0.5, 0),    # Orange\n",
    "    \"table\": (0.6, 0.4, 0.2),         # Brown\n",
    "    \"text\": (0, 0, 0),                # Black\n",
    "    \"title\": (0.3, 0.7, 0.3),         # Olive Green\n",
    "    \"document_index\": (0.5, 0.2, 0.7),# Purple\n",
    "    \"code\": (0.9, 0.6, 0.1),          # Gold\n",
    "    \"checkbox_selected\": (0.2, 0.7, 0.8), # Teal\n",
    "    \"checkbox_unselected\": (0.7, 0.2, 0.6), # Pink\n",
    "    \"form\": (0.4, 0.4, 0.8),          # Lavender\n",
    "    \"key_value_region\": (0.6, 0.3, 0.9), # Violet\n",
    "    \"paragraph\": (0.4, 0.5, 0.3),     # Dark Olive\n",
    "    \"reference\": (0.8, 0.5, 0.2)      # Amber\n",
    "}\n",
    "\n",
    "\n",
    "def fetch_bbox_and_page_num(item):\n",
    "    \"\"\"\n",
    "    Return the bounding box and page number of the item if label is recognized.\n",
    "    \"\"\"\n",
    "    recognized_labels = {\n",
    "        \"caption\", \"footnote\", \"formula\", \"list_item\", \"page_footer\",\n",
    "        \"page_header\", \"picture\", \"section_header\", \"table\", \"text\",\n",
    "        \"title\", \"document_index\", \"code\", \"checkbox_selected\",\n",
    "        \"checkbox_unselected\", \"form\", \"key_value_region\", \"paragraph\",\n",
    "        \"reference\"\n",
    "    }\n",
    "    \n",
    "    if item.label in recognized_labels:\n",
    "        return (item.label, item.prov[0].bbox), item.prov[0].page_no\n",
    "    else:\n",
    "        return f\"{item.label} not found\""
   ]
  },
  {
   "cell_type": "code",
   "execution_count": 79,
   "metadata": {},
   "outputs": [
    {
     "name": "stdout",
     "output_type": "stream",
     "text": [
      "Processing ../tst/sample_pdfs/_-1.pdf...\n"
     ]
    },
    {
     "name": "stderr",
     "output_type": "stream",
     "text": [
      "Fetching 9 files: 100%|██████████| 9/9 [00:00<00:00, 155344.59it/s]\n"
     ]
    },
    {
     "name": "stdout",
     "output_type": "stream",
     "text": [
      "{1: [BoundingBox(l=14.004631996154785, t=780.1151123046875, r=604.6612548828125, b=8.1182861328125, coord_origin=<CoordOrigin.BOTTOMLEFT: 'BOTTOMLEFT'>)], 2: [BoundingBox(l=13.104262351989746, t=781.578857421875, r=603.934326171875, b=8.20477294921875, coord_origin=<CoordOrigin.BOTTOMLEFT: 'BOTTOMLEFT'>)], 3: [BoundingBox(l=14.17208480834961, t=780.7562866210938, r=603.1598510742188, b=10.181396484375, coord_origin=<CoordOrigin.BOTTOMLEFT: 'BOTTOMLEFT'>)], 4: [BoundingBox(l=14.732715606689453, t=782.398193359375, r=603.611572265625, b=11.0948486328125, coord_origin=<CoordOrigin.BOTTOMLEFT: 'BOTTOMLEFT'>)], 5: [BoundingBox(l=14.709278106689453, t=781.0558471679688, r=603.7754516601562, b=8.38555908203125, coord_origin=<CoordOrigin.BOTTOMLEFT: 'BOTTOMLEFT'>)]}\n"
     ]
    },
    {
     "ename": "ValueError",
     "evalue": "too many values to unpack (expected 2)",
     "output_type": "error",
     "traceback": [
      "\u001b[0;31m---------------------------------------------------------------------------\u001b[0m",
      "\u001b[0;31mValueError\u001b[0m                                Traceback (most recent call last)",
      "Cell \u001b[0;32mIn[79], line 83\u001b[0m\n\u001b[1;32m     79\u001b[0m output_pdf_dir \u001b[38;5;241m=\u001b[39m \u001b[38;5;124m\"\u001b[39m\u001b[38;5;124m../tst\u001b[39m\u001b[38;5;124m\"\u001b[39m  \u001b[38;5;66;03m# Directory to store the extracted and annotated PDFs\u001b[39;00m\n\u001b[1;32m     82\u001b[0m \u001b[38;5;66;03m# Process all PDFs in the input directory\u001b[39;00m\n\u001b[0;32m---> 83\u001b[0m \u001b[43mprocess_pdf_directory\u001b[49m\u001b[43m(\u001b[49m\u001b[43minput_pdf_dir\u001b[49m\u001b[43m,\u001b[49m\u001b[43m \u001b[49m\u001b[43moutput_pdf_dir\u001b[49m\u001b[43m,\u001b[49m\u001b[43m \u001b[49m\u001b[43mpage_limit\u001b[49m\u001b[38;5;241;43m=\u001b[39;49m\u001b[38;5;241;43m5\u001b[39;49m\u001b[43m)\u001b[49m\n",
      "Cell \u001b[0;32mIn[79], line 74\u001b[0m, in \u001b[0;36mprocess_pdf_directory\u001b[0;34m(input_dir, output_dir, page_limit)\u001b[0m\n\u001b[1;32m     72\u001b[0m full_pdf_path \u001b[38;5;241m=\u001b[39m os\u001b[38;5;241m.\u001b[39mpath\u001b[38;5;241m.\u001b[39mjoin(input_dir, pdf_file)\n\u001b[1;32m     73\u001b[0m \u001b[38;5;28mprint\u001b[39m(\u001b[38;5;124mf\u001b[39m\u001b[38;5;124m\"\u001b[39m\u001b[38;5;124mProcessing \u001b[39m\u001b[38;5;132;01m{\u001b[39;00mfull_pdf_path\u001b[38;5;132;01m}\u001b[39;00m\u001b[38;5;124m...\u001b[39m\u001b[38;5;124m\"\u001b[39m)\n\u001b[0;32m---> 74\u001b[0m \u001b[43mprocess_pdf\u001b[49m\u001b[43m(\u001b[49m\u001b[43mfull_pdf_path\u001b[49m\u001b[43m,\u001b[49m\u001b[43m \u001b[49m\u001b[43moutput_dir\u001b[49m\u001b[43m,\u001b[49m\u001b[43m \u001b[49m\u001b[43mpage_limit\u001b[49m\u001b[43m)\u001b[49m\n",
      "Cell \u001b[0;32mIn[79], line 60\u001b[0m, in \u001b[0;36mprocess_pdf\u001b[0;34m(pdf_file, output_dir, aryn_api_key, page_limit)\u001b[0m\n\u001b[1;32m     57\u001b[0m \u001b[38;5;66;03m# Use the annotation dictionary to draw bounding boxes on the extracted pages and save as a new PDF with annotations in the annotated PDF directory\u001b[39;00m\n\u001b[1;32m     58\u001b[0m \u001b[38;5;66;03m# Annotate the extracted PDF and save\u001b[39;00m\n\u001b[1;32m     59\u001b[0m annotated_pdf_file \u001b[38;5;241m=\u001b[39m os\u001b[38;5;241m.\u001b[39mpath\u001b[38;5;241m.\u001b[39mjoin(annotated_pdf_dir, os\u001b[38;5;241m.\u001b[39mpath\u001b[38;5;241m.\u001b[39mbasename(pdf_file))\n\u001b[0;32m---> 60\u001b[0m \u001b[43mannotate_pdf_with_bboxes\u001b[49m\u001b[43m(\u001b[49m\u001b[43moutput_pdf_file\u001b[49m\u001b[43m,\u001b[49m\u001b[43m \u001b[49m\u001b[43mannotated_pdf_file\u001b[49m\u001b[43m,\u001b[49m\u001b[43m \u001b[49m\u001b[43mannotation_dictionary\u001b[49m\u001b[43m)\u001b[49m\n",
      "Cell \u001b[0;32mIn[79], line 16\u001b[0m, in \u001b[0;36mannotate_pdf_with_bboxes\u001b[0;34m(pdf_file, output_file, annotation_dictionary)\u001b[0m\n\u001b[1;32m     13\u001b[0m page \u001b[38;5;241m=\u001b[39m pdf[page_num \u001b[38;5;241m-\u001b[39m \u001b[38;5;241m1\u001b[39m]  \u001b[38;5;66;03m# Access each annotated page\u001b[39;00m\n\u001b[1;32m     14\u001b[0m page_height \u001b[38;5;241m=\u001b[39m page\u001b[38;5;241m.\u001b[39mrect\u001b[38;5;241m.\u001b[39mheight  \u001b[38;5;66;03m# Get the height of the page for coordinate adjustment\u001b[39;00m\n\u001b[0;32m---> 16\u001b[0m \u001b[38;5;28;01mfor\u001b[39;00m (item,bbox) \u001b[38;5;129;01min\u001b[39;00m annotation_dictionary[page_num]:\n\u001b[1;32m     17\u001b[0m     \u001b[38;5;66;03m# Extract l, t, r, b\u001b[39;00m\n\u001b[1;32m     18\u001b[0m     l, t, r, b \u001b[38;5;241m=\u001b[39m bbox\u001b[38;5;241m.\u001b[39ml, bbox\u001b[38;5;241m.\u001b[39mt, bbox\u001b[38;5;241m.\u001b[39mr, bbox\u001b[38;5;241m.\u001b[39mb\n\u001b[1;32m     20\u001b[0m     \u001b[38;5;66;03m# Adjust coordinates if needed, assuming bottom-left origin\u001b[39;00m\n",
      "\u001b[0;31mValueError\u001b[0m: too many values to unpack (expected 2)"
     ]
    }
   ],
   "source": [
    "\n",
    "def annotate_pdf_with_bboxes(pdf_file, output_file, annotation_dictionary):\n",
    "    \"\"\"\n",
    "    Annotates the given PDF with bounding boxes from annotation_dictionary\n",
    "    and saves the annotated PDF. Skips annotations for pages that don't exist.\n",
    "    \"\"\"\n",
    "    with fitz.open(pdf_file) as pdf:\n",
    "        print(annotation_dictionary)\n",
    "        for page_num in annotation_dictionary:\n",
    "            # if page_num >= len(pdf):  # Skip if page does not exist in the PDF\n",
    "            #     continue\n",
    "            if page_num not in annotation_dictionary:\n",
    "                continue # Skip if page does not have any annotations\n",
    "            page = pdf[page_num - 1]  # Access each annotated page\n",
    "            page_height = page.rect.height  # Get the height of the page for coordinate adjustment\n",
    "            \n",
    "            for (item, bbox) in annotation_dictionary[page_num]:\n",
    "                # Extract l, t, r, b\n",
    "                l, t, r, b = bbox.l, bbox.t, bbox.r, bbox.b\n",
    "                \n",
    "                # Adjust coordinates if needed, assuming bottom-left origin\n",
    "                adjusted_rect = fitz.Rect(l, page_height - t, r, page_height - b)\n",
    "                \n",
    "                # Draw a rectangle on the page for each bounding box\n",
    "                page.draw_rect(adjusted_rect, color=label_colors[item], width=1)  # Red outline for visibility\n",
    "\n",
    "        # Save annotated PDF\n",
    "        pdf.save(output_file)\n",
    " \n",
    " # Function to process and save a single PDF\n",
    "def process_pdf(pdf_file, output_dir, aryn_api_key, page_limit=5):\n",
    "    # Ensure output directories exist\n",
    "    extracted_pdf_dir = os.path.join(output_dir, \"saved_pdfs\")\n",
    "    annotated_pdf_dir = os.path.join(output_dir, \"annotated_pdfs\")\n",
    "    \n",
    "    os.makedirs(extracted_pdf_dir, exist_ok=True)\n",
    "    os.makedirs(annotated_pdf_dir, exist_ok=True)\n",
    "    \n",
    "    # Extract specific pages (e.g., pages 1 to page_limit) and save to a temporary PDF\n",
    "    output_pdf_file = os.path.join(extracted_pdf_dir, os.path.basename(pdf_file))\n",
    "    with fitz.open(pdf_file) as pdf:\n",
    "        pdf_extract = fitz.open()  # Create a new PDF\n",
    "        for page_num in range(0, min(page_limit, len(pdf))):  # Pages 1 to page_limit\n",
    "            pdf_extract.insert_pdf(pdf, from_page=page_num, to_page=page_num)\n",
    "        pdf_extract.save(output_pdf_file)  # Save the extracted pages\n",
    "\n",
    "    # Process the extracted PDF with docling\n",
    "    docling_doc = DocumentConverter().convert(output_pdf_file).document\n",
    "    # Fetch the bounding boxes and page numbers of the annotations\n",
    "    annotation_dictionary = {}\n",
    "    for item, level in docling_doc.iterate_items():\n",
    "        item_and_bbox, page_num = fetch_bbox_and_page_num(item)\n",
    "        # print(f\"Bounding Box: {bbox}\")\n",
    "        if page_num not in annotation_dictionary:\n",
    "            annotation_dictionary[page_num] = [item_and_bbox]\n",
    "        else:\n",
    "            annotation_dictionary[page_num].append(item_and_bbox)\n",
    "    # Use the annotation dictionary to draw bounding boxes on the extracted pages and save as a new PDF with annotations in the annotated PDF directory\n",
    "    # Annotate the extracted PDF and save\n",
    "    annotated_pdf_file = os.path.join(annotated_pdf_dir, os.path.basename(pdf_file))\n",
    "    annotate_pdf_with_bboxes(output_pdf_file, annotated_pdf_file, annotation_dictionary)\n",
    "    \n",
    "\n",
    "\n",
    "\n",
    "# Function to process all PDFs in a given directory\n",
    "def process_pdf_directory(input_dir, output_dir, page_limit=5):\n",
    "    # Get all PDF files in the input directory\n",
    "    pdf_files = [f for f in os.listdir(input_dir) if f.endswith('.pdf')]\n",
    "    \n",
    "    # Process each PDF\n",
    "    for pdf_file in pdf_files:\n",
    "        full_pdf_path = os.path.join(input_dir, pdf_file)\n",
    "        print(f\"Processing {full_pdf_path}...\")\n",
    "        process_pdf(full_pdf_path, output_dir, page_limit)\n",
    "\n",
    "\n",
    "# Define the input and output directories\n",
    "input_pdf_dir = \"../tst/sample_pdfs\"  # Directory containing the PDFs to process\n",
    "output_pdf_dir = \"../tst\"  # Directory to store the extracted and annotated PDFs\n",
    "\n",
    "\n",
    "# Process all PDFs in the input directory\n",
    "process_pdf_directory(input_pdf_dir, output_pdf_dir, page_limit=5)\n",
    "\n"
   ]
  },
  {
   "cell_type": "code",
   "execution_count": null,
   "metadata": {},
   "outputs": [],
   "source": []
  }
 ],
 "metadata": {
  "kernelspec": {
   "display_name": "police_records_env",
   "language": "python",
   "name": "python3"
  },
  "language_info": {
   "codemirror_mode": {
    "name": "ipython",
    "version": 3
   },
   "file_extension": ".py",
   "mimetype": "text/x-python",
   "name": "python",
   "nbconvert_exporter": "python",
   "pygments_lexer": "ipython3",
   "version": "3.11.4"
  }
 },
 "nbformat": 4,
 "nbformat_minor": 2
}
